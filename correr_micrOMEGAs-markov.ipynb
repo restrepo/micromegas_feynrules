{
 "cells": [
  {
   "cell_type": "markdown",
   "metadata": {},
   "source": [
    "## Run micrOMEGAs T13A"
   ]
  },
  {
   "cell_type": "code",
   "execution_count": 1,
   "metadata": {
    "collapsed": false
   },
   "outputs": [
    {
     "name": "stdout",
     "output_type": "stream",
     "text": [
      "Populating the interactive namespace from numpy and matplotlib\n"
     ]
    }
   ],
   "source": [
    "%pylab inline"
   ]
  },
  {
   "cell_type": "code",
   "execution_count": 2,
   "metadata": {
    "collapsed": true
   },
   "outputs": [],
   "source": [
    "import numpy as np\n",
    "import pandas as pd\n",
    "import commands\n",
    "import time"
   ]
  },
  {
   "cell_type": "markdown",
   "metadata": {},
   "source": [
    "### DM relic density to $3\\sigma$"
   ]
  },
  {
   "cell_type": "code",
   "execution_count": 3,
   "metadata": {
    "collapsed": false
   },
   "outputs": [
    {
     "name": "stdout",
     "output_type": "stream",
     "text": [
      "0.1199 0.1118 0.128\n"
     ]
    }
   ],
   "source": [
    "#Experimental values for DM\n",
    "#Reals values 2015\n",
    "#Omega_max=0.1199+0.0022\n",
    "#Omega_min=0.1199-0.0022\n",
    "#Reals values 2013\n",
    "#Omega_max=0.1199+0.0027\n",
    "#Omega_min=0.1199-0.0027\n",
    "e = 3\n",
    "Omega_exp = 0.1199\n",
    "Omega_err=0.0027\n",
    "Omega_max=Omega_exp + e*Omega_err\n",
    "Omega_min=Omega_exp - e*Omega_err\n",
    "print Omega_exp, Omega_min,Omega_max"
   ]
  },
  {
   "cell_type": "markdown",
   "metadata": {},
   "source": [
    "#### Rutine"
   ]
  },
  {
   "cell_type": "code",
   "execution_count": 4,
   "metadata": {
    "collapsed": false
   },
   "outputs": [],
   "source": [
    "#1. CHOOSE A BENCHMARK POINT    \n",
    "def run_point(MDF = 110.,MN = 101.,tanb = 10.0,lam = 0.15,v=246.2196):\n",
    "    o={}\n",
    "    #2. File to run micrOMEGAS installed in galcen\n",
    "    f1 = open(\"input.par\",\"w\") \n",
    "\n",
    "    lu=lam*np.sin(np.arctan(tanb))\n",
    "    ld=lam*np.cos(np.arctan(tanb))\n",
    "    \n",
    "\n",
    "    M=np.matrix([[ MN,                -ld*v/np.sqrt(2.),  lu*v/np.sqrt(2.)],\n",
    "             [ -ld*v/np.sqrt(2.),  0.,                MDF ],\n",
    "             [ lu*v/np.sqrt(2.),  MDF,               0. ]])\n",
    "\n",
    "    (Mchi,N)=np.linalg.eig(M)\n",
    "\n",
    "    f1.write('MDF'+'\\t'+str(MDF)+'\\n'+'MN'+'\\t'+str(MN)+'\\n'+'ld'+'\\t'+str(ld)+'\\n'+'lu'+'\\t'+str(lu)+'\\n'\\\n",
    "        +'N11'+'\\t'+str(N[0,0])+'\\n'+'N12'+'\\t'+str(N[0,1])+'\\n'+'N13'+'\\t'+str(N[0,2])+'\\n'\\\n",
    "        +'N21'+'\\t'+str(N[1,0])+'\\n'+'N22'+'\\t'+str(N[1,1])+'\\n'+'N23'+'\\t'+str(N[1,2])+'\\n'\\\n",
    "        +'N31'+'\\t'+str(N[2,0])+'\\n'+'N32'+'\\t'+str(N[2,1])+'\\n'+'N33'+'\\t'+str(N[2,2])+'\\n')\n",
    "    #Close file\n",
    "    f1.close()     \n",
    "\n",
    "    #3. Run micromegas\n",
    "    mo=commands.getoutput('~/micromegas_4.2.5/T13A0/./main input.par')\n",
    "\n",
    "    #4. Extrac some of the output (Dependence of the micrOMEGAs vertion)\n",
    "    o['Omega']=eval(mo.split('Omega=')[1].split('\\n')[0])\n",
    "    o['SI']=eval(mo.split('proton  SI')[1].split('[')[0])\n",
    "    o['SD']=eval(mo.split('proton  SI')[1].split('SD')[1].split('[')[0])\n",
    "    o['sigmav']=eval(mo.split('annihilation cross section')[1].split('cm^3/s\\n')[0])\n",
    "    return o"
   ]
  },
  {
   "cell_type": "code",
   "execution_count": 5,
   "metadata": {
    "collapsed": false
   },
   "outputs": [
    {
     "data": {
      "text/plain": [
       "0.085300000000000001"
      ]
     },
     "execution_count": 5,
     "metadata": {},
     "output_type": "execute_result"
    }
   ],
   "source": [
    "mo=pd.Series(run_point(MDF=110))\n",
    "mo.Omega"
   ]
  },
  {
   "cell_type": "markdown",
   "metadata": {},
   "source": [
    "# Markov chain"
   ]
  },
  {
   "cell_type": "markdown",
   "metadata": {},
   "source": [
    "From hep-ph/0407039"
   ]
  },
  {
   "cell_type": "markdown",
   "metadata": {},
   "source": [
    "Start at any point"
   ]
  },
  {
   "cell_type": "code",
   "execution_count": 6,
   "metadata": {
    "collapsed": false
   },
   "outputs": [
    {
     "name": "stdout",
     "output_type": "stream",
     "text": [
      "6.974005117964145981665798839E-5202\n"
     ]
    }
   ],
   "source": [
    "def chi2(micrOMEGAs):\n",
    "    Omega_exp = 0.1199\n",
    "    Omega_err=0.0027\n",
    "    return ( np.log(micrOMEGAs.Omega/Omega_exp)/(3.*Omega_err))**2\n",
    "\n",
    "def L(micrOMEGAs):\n",
    "    from decimal import Decimal\n",
    "    return np.exp(Decimal(-chi2(micrOMEGAs)/2.))\n",
    "\n",
    "def likelihood(chi2):\n",
    "    from decimal import Decimal\n",
    "    return np.exp(Decimal(-chi2/2.))\n",
    "\n",
    "    \n",
    "p0=pd.Series({'MDF':130})\n",
    "mo=pd.Series(run_point(p0.MDF))\n",
    "L0=likelihood(chi2(mo))\n",
    "print L0"
   ]
  },
  {
   "cell_type": "code",
   "execution_count": 7,
   "metadata": {
    "collapsed": false
   },
   "outputs": [
    {
     "name": "stdout",
     "output_type": "stream",
     "text": [
      "114\n",
      "16.6664241374\n",
      "0.0002403986265092158381945953807\n",
      "3.447066964289712042852045487E+5197\n"
     ]
    }
   ],
   "source": [
    "pnew=pd.Series({'MDF':114})#MDF+np.random.choice([+1,-1])*1.\n",
    "print pnew.MDF\n",
    "mo=pd.Series(run_point(pnew.MDF))\n",
    "\n",
    "print chi2(mo)\n",
    "print likelihood(chi2(mo))\n",
    "p=likelihood(chi2(mo))/L0\n",
    "print p"
   ]
  },
  {
   "cell_type": "markdown",
   "metadata": {},
   "source": [
    "If L1<L0 does not reject a point but assign some probability"
   ]
  },
  {
   "cell_type": "code",
   "execution_count": 8,
   "metadata": {
    "collapsed": true
   },
   "outputs": [],
   "source": [
    "def markov_step(chi20,chi2new,p0,pnew,step): \n",
    "    '''Advance a point in the parameter space\n",
    "    from p0 to pnew by step according to a\n",
    "    Markov-chain probability obtained by calculating\n",
    "    the likelihood from chi20 and chi2new.\n",
    "    p0,pnew,step are pandas series with exactly\n",
    "    the same keys corresponding to the paramenter \n",
    "    space variables'''\n",
    "    import copy    \n",
    "    accept=False\n",
    "    if np.abs(likelihood(chi20))>0:\n",
    "        p=likelihood(chi2new)/likelihood(chi20)\n",
    "    else:\n",
    "        p=1.1\n",
    "    \n",
    "    \n",
    "    if p>1:\n",
    "        accept=True        \n",
    "    else:\n",
    "        if p>np.random.random():\n",
    "            accept=True\n",
    "    \n",
    "        print 'False L, check p: accept=',accept\n",
    "        \n",
    "    if accept:\n",
    "        p0=copy.deepcopy(pnew)\n",
    "        chi20=chi2new\n",
    "        \n",
    "        \n",
    "    #pnew=pd.Series({'MDF':p0.MDF+np.random.choice([+1,-1])*step.MDF})\n",
    "    pnew=pd.Series()\n",
    "    for k in p0.keys():\n",
    "        pnew[k]=p0[k]+np.random.choice([+1,-1])*step[k]\n",
    "        \n",
    "    return chi20,chi2new,p0,pnew"
   ]
  },
  {
   "cell_type": "code",
   "execution_count": 9,
   "metadata": {
    "collapsed": false
   },
   "outputs": [
    {
     "name": "stdout",
     "output_type": "stream",
     "text": [
      "350470.70445 1.792644737803656537921315276E-76104 14.5\n"
     ]
    }
   ],
   "source": [
    "p_ini=pd.Series({'MDF':200})\n",
    "p_new=p_ini\n",
    "mo=pd.Series(run_point(p_ini.MDF))\n",
    "chi20=chi2(mo)\n",
    "L0=likelihood(chi2(mo))\n",
    "print chi20,L0,mo.Omega"
   ]
  },
  {
   "cell_type": "code",
   "execution_count": 10,
   "metadata": {
    "collapsed": false
   },
   "outputs": [
    {
     "name": "stdout",
     "output_type": "stream",
     "text": [
      "False L, check p: accept= True\n",
      "p: 3.447066964289712042852045487E+5197 10.0 200 190.0 14.5 0\n",
      "p: 3.447066964289712042852045487E+5197 10.0 190.0 200.0 10.7 1\n",
      "False L, check p: accept= False\n",
      "p: 3.447066964289712042852045487E+5197 10.0 190.0 180.0 14.5 2\n",
      "p: 3.447066964289712042852045487E+5197 10.0 180.0 190.0 7.53 3\n",
      "False L, check p: accept= False\n",
      "p: 3.447066964289712042852045487E+5197 10.0 180.0 190.0 10.7 4\n",
      "False L, check p: accept= False\n",
      "p: 3.447066964289712042852045487E+5197 10.0 180.0 190.0 10.7 5\n",
      "False L, check p: accept= False\n",
      "p: 3.447066964289712042852045487E+5197 10.0 180.0 170.0 10.7 6\n",
      "p: 3.447066964289712042852045487E+5197 10.0 170.0 180.0 4.98 7\n",
      "False L, check p: accept= False\n",
      "p: 3.447066964289712042852045487E+5197 10.0 170.0 160.0 7.53 8\n",
      "p: 3.447066964289712042852045487E+5197 10.0 160.0 170.0 3.06 9\n",
      "False L, check p: accept= False\n",
      "p: 3.447066964289712042852045487E+5197 10.0 160.0 150.0 4.98 10\n",
      "p: 3.447066964289712042852045487E+5197 10.0 150.0 160.0 1.73 11\n",
      "False L, check p: accept= False\n",
      "p: 3.447066964289712042852045487E+5197 10.0 150.0 160.0 3.06 12\n",
      "False L, check p: accept= False\n",
      "p: 3.447066964289712042852045487E+5197 10.0 150.0 140.0 3.06 13\n",
      "p: 3.447066964289712042852045487E+5197 10.0 140.0 150.0 0.895 14\n",
      "False L, check p: accept= False\n",
      "p: 3.447066964289712042852045487E+5197 10.0 140.0 150.0 1.73 15\n",
      "False L, check p: accept= False\n",
      "p: 3.447066964289712042852045487E+5197 10.0 140.0 130.0 1.73 16\n",
      "p: 3.447066964289712042852045487E+5197 10.0 130.0 140.0 0.42 17\n",
      "False L, check p: accept= False\n",
      "p: 3.447066964289712042852045487E+5197 1.0 130.0 129.0 0.895 18\n",
      "p: 3.447066964289712042852045487E+5197 1.0 129.0 130.0 0.388 19\n",
      "False L, check p: accept= False\n",
      "p: 3.447066964289712042852045487E+5197 1.0 129.0 130.0 0.42 20\n",
      "False L, check p: accept= False\n",
      "p: 3.447066964289712042852045487E+5197 1.0 129.0 128.0 0.42 21\n",
      "p: 3.447066964289712042852045487E+5197 1.0 128.0 129.0 0.36 22\n",
      "False L, check p: accept= False\n",
      "p: 3.447066964289712042852045487E+5197 1.0 128.0 127.0 0.388 23\n",
      "p: 3.447066964289712042852045487E+5197 1.0 127.0 126.0 0.332 24\n",
      "p: 3.447066964289712042852045487E+5197 1.0 126.0 127.0 0.307 25\n",
      "False L, check p: accept= False\n",
      "p: 3.447066964289712042852045487E+5197 1.0 126.0 125.0 0.332 26\n",
      "p: 3.447066964289712042852045487E+5197 1.0 125.0 124.0 0.282 27\n",
      "p: 3.447066964289712042852045487E+5197 1.0 124.0 123.0 0.26 28\n",
      "p: 3.447066964289712042852045487E+5197 1.0 123.0 122.0 0.239 29\n",
      "p: 3.447066964289712042852045487E+5197 1.0 122.0 123.0 0.22 30\n",
      "False L, check p: accept= False\n",
      "p: 3.447066964289712042852045487E+5197 1.0 122.0 121.0 0.239 31\n",
      "p: 3.447066964289712042852045487E+5197 1.0 121.0 122.0 0.203 32\n",
      "False L, check p: accept= False\n",
      "p: 3.447066964289712042852045487E+5197 1.0 121.0 122.0 0.22 33\n",
      "False L, check p: accept= False\n",
      "p: 3.447066964289712042852045487E+5197 1.0 121.0 122.0 0.22 34\n",
      "False L, check p: accept= False\n",
      "p: 3.447066964289712042852045487E+5197 1.0 121.0 120.0 0.22 35\n",
      "p: 3.447066964289712042852045487E+5197 1.0 120.0 121.0 0.187 36\n",
      "False L, check p: accept= False\n",
      "p: 3.447066964289712042852045487E+5197 1.0 120.0 121.0 0.203 37\n",
      "False L, check p: accept= False\n",
      "p: 3.447066964289712042852045487E+5197 1.0 120.0 121.0 0.203 38\n",
      "False L, check p: accept= False\n",
      "p: 3.447066964289712042852045487E+5197 1.0 120.0 121.0 0.203 39\n",
      "False L, check p: accept= False\n",
      "p: 3.447066964289712042852045487E+5197 1.0 120.0 119.0 0.203 40\n",
      "p: 3.447066964289712042852045487E+5197 1.0 119.0 118.0 0.175 41\n",
      "p: 3.447066964289712042852045487E+5197 1.0 118.0 119.0 0.159 42\n",
      "False L, check p: accept= False\n",
      "p: 3.447066964289712042852045487E+5197 1.0 118.0 117.0 0.175 43\n",
      "p: 3.447066964289712042852045487E+5197 1.0 117.0 118.0 0.148 44\n",
      "False L, check p: accept= False\n",
      "p: 3.447066964289712042852045487E+5197 1.0 117.0 118.0 0.159 45\n",
      "False L, check p: accept= False\n",
      "p: 3.447066964289712042852045487E+5197 1.0 117.0 118.0 0.159 46\n",
      "False L, check p: accept= False\n",
      "p: 3.447066964289712042852045487E+5197 1.0 117.0 118.0 0.159 47\n",
      "False L, check p: accept= False\n",
      "p: 3.447066964289712042852045487E+5197 1.0 117.0 118.0 0.159 48\n",
      "False L, check p: accept= False\n",
      "p: 3.447066964289712042852045487E+5197 1.0 117.0 118.0 0.159 49\n",
      "False L, check p: accept= False\n",
      "p: 3.447066964289712042852045487E+5197 1.0 117.0 118.0 0.159 50\n",
      "False L, check p: accept= False\n",
      "p: 3.447066964289712042852045487E+5197 1.0 117.0 116.0 0.159 51\n",
      "p: 3.447066964289712042852045487E+5197 1.0 116.0 115.0 0.136 52\n",
      "p: 3.447066964289712042852045487E+5197 0.1 115.0 115.1 0.126 53\n",
      "False L, check p: accept= False\n",
      "p: 3.447066964289712042852045487E+5197 0.1 115.0 115.1 0.128 54\n",
      "False L, check p: accept= False\n",
      "p: 3.447066964289712042852045487E+5197 0.1 115.0 114.9 0.128 55\n",
      "p: 3.447066964289712042852045487E+5197 0.1 114.9 114.8 0.125 56\n",
      "p: 3.447066964289712042852045487E+5197 0.1 114.8 114.7 0.124 57\n",
      "p: 3.447066964289712042852045487E+5197 0.1 114.7 114.6 0.123 58\n",
      "p: 3.447066964289712042852045487E+5197 0.1 114.6 114.7 0.122 59\n",
      "False L, check p: accept= False\n",
      "p: 3.447066964289712042852045487E+5197 0.1 114.6 114.7 0.123 60\n",
      "False L, check p: accept= False\n",
      "p: 3.447066964289712042852045487E+5197 0.1 114.6 114.5 0.123 61\n",
      "p: 3.447066964289712042852045487E+5197 0.1 114.5 114.6 0.121 62\n",
      "False L, check p: accept= False\n",
      "p: 3.447066964289712042852045487E+5197 0.1 114.5 114.4 0.122 63\n",
      "p: 3.447066964289712042852045487E+5197 0.1 114.4 114.5 0.12 64\n",
      "False L, check p: accept= True\n",
      "p: 3.447066964289712042852045487E+5197 0.1 114.5 114.6 0.121 65\n",
      "False L, check p: accept= True\n",
      "p: 3.447066964289712042852045487E+5197 0.1 114.6 114.7 0.122 66\n",
      "False L, check p: accept= False\n",
      "p: 3.447066964289712042852045487E+5197 0.1 114.6 114.7 0.123 67\n",
      "False L, check p: accept= False\n",
      "p: 3.447066964289712042852045487E+5197 0.1 114.6 114.7 0.123 68\n",
      "False L, check p: accept= False\n",
      "p: 3.447066964289712042852045487E+5197 0.1 114.6 114.7 0.123 69\n",
      "False L, check p: accept= False\n",
      "p: 3.447066964289712042852045487E+5197 0.1 114.6 114.5 0.123 70\n",
      "p: 3.447066964289712042852045487E+5197 0.1 114.5 114.4 0.121 71\n",
      "p: 3.447066964289712042852045487E+5197 0.1 114.4 114.5 0.12 72\n",
      "False L, check p: accept= False\n",
      "p: 3.447066964289712042852045487E+5197 0.1 114.4 114.5 0.121 73\n",
      "False L, check p: accept= True\n",
      "p: 3.447066964289712042852045487E+5197 0.1 114.5 114.6 0.121 74\n",
      "False L, check p: accept= False\n",
      "p: 3.447066964289712042852045487E+5197 0.1 114.5 114.4 0.122 75\n",
      "p: 3.447066964289712042852045487E+5197 0.1 114.4 114.5 0.12 76\n",
      "False L, check p: accept= True\n",
      "p: 3.447066964289712042852045487E+5197 0.1 114.5 114.4 0.121 77\n",
      "p: 3.447066964289712042852045487E+5197 0.1 114.4 114.5 0.12 78\n",
      "False L, check p: accept= True\n",
      "p: 3.447066964289712042852045487E+5197 0.1 114.5 114.4 0.121 79\n",
      "p: 3.447066964289712042852045487E+5197 0.1 114.4 114.5 0.12 80\n",
      "False L, check p: accept= True\n",
      "p: 3.447066964289712042852045487E+5197 0.1 114.5 114.4 0.121 81\n",
      "p: 3.447066964289712042852045487E+5197 0.1 114.4 114.3 0.12 82\n",
      "False L, check p: accept= True\n",
      "p: 3.447066964289712042852045487E+5197 0.1 114.3 114.4 0.119 83\n",
      "p: 3.447066964289712042852045487E+5197 0.1 114.4 114.5 0.12 84\n",
      "False L, check p: accept= False\n",
      "p: 3.447066964289712042852045487E+5197 0.1 114.4 114.3 0.121 85\n",
      "False L, check p: accept= True\n",
      "p: 3.447066964289712042852045487E+5197 0.1 114.3 114.4 0.119 86\n",
      "p: 3.447066964289712042852045487E+5197 0.1 114.4 114.5 0.12 87\n",
      "False L, check p: accept= True\n",
      "p: 3.447066964289712042852045487E+5197 0.1 114.5 114.4 0.121 88\n",
      "p: 3.447066964289712042852045487E+5197 0.1 114.4 114.5 0.12 89\n",
      "False L, check p: accept= True\n",
      "p: 3.447066964289712042852045487E+5197 0.1 114.5 114.6 0.121 90\n",
      "False L, check p: accept= True\n",
      "p: 3.447066964289712042852045487E+5197 0.1 114.6 114.5 0.122 91\n",
      "p: 3.447066964289712042852045487E+5197 0.1 114.5 114.4 0.121 92\n",
      "p: 3.447066964289712042852045487E+5197 0.1 114.4 114.5 0.12 93\n",
      "False L, check p: accept= True\n",
      "p: 3.447066964289712042852045487E+5197 0.1 114.5 114.6 0.121 94\n",
      "False L, check p: accept= True\n",
      "p: 3.447066964289712042852045487E+5197 0.1 114.6 114.7 0.122 95\n",
      "False L, check p: accept= False\n",
      "p: 3.447066964289712042852045487E+5197 0.1 114.6 114.7 0.123 96\n",
      "False L, check p: accept= False\n",
      "p: 3.447066964289712042852045487E+5197 0.1 114.6 114.5 0.123 97\n",
      "p: 3.447066964289712042852045487E+5197 0.1 114.5 114.4 0.121 98\n",
      "p: 3.447066964289712042852045487E+5197 0.1 114.4 114.3 0.12 99\n"
     ]
    }
   ],
   "source": [
    "import copy    \n",
    "x=pd.DataFrame()\n",
    "\n",
    "step0=pd.Series({'MDF':0.1})\n",
    "for i in range(100):\n",
    "    chi2new=chi2(mo)\n",
    "    #Quite general way for step:\n",
    "    s=pd.Series()\n",
    "    step=step0\n",
    "    if chi20>600000:\n",
    "        step=step*1000    \n",
    "    elif chi20>50000:\n",
    "        step=step*100\n",
    "    elif chi20>250:\n",
    "        step=step*10\n",
    "    \n",
    "    chi20,chi2new,p_ini,p_new=markov_step(chi20,chi2new,p_ini,p_new,step)\n",
    "        \n",
    "    print 'p:',p,step.MDF,p_ini.MDF,p_new.MDF,mo.Omega,i\n",
    "    s['MDF_0']=p_ini.MDF\n",
    "    s['MDF_i']=p_new.MDF\n",
    "    s['L0']=likelihood(chi20)\n",
    "    s['L']=likelihood(chi2(mo))\n",
    "    mo=pd.Series(run_point(p_new.MDF))\n",
    "    s=s.append(mo)\n",
    "\n",
    "    x=x.append(s,ignore_index=True)"
   ]
  },
  {
   "cell_type": "code",
   "execution_count": 91,
   "metadata": {
    "collapsed": false
   },
   "outputs": [
    {
     "data": {
      "text/plain": [
       "MDF    125\n",
       "dtype: float64"
      ]
     },
     "execution_count": 91,
     "metadata": {},
     "output_type": "execute_result"
    }
   ],
   "source": [
    "ptmp=pnew\n",
    "ptmp"
   ]
  },
  {
   "cell_type": "code",
   "execution_count": 92,
   "metadata": {
    "collapsed": false
   },
   "outputs": [
    {
     "data": {
      "text/plain": [
       "MDF    125\n",
       "dtype: float64"
      ]
     },
     "execution_count": 92,
     "metadata": {},
     "output_type": "execute_result"
    }
   ],
   "source": [
    "pnew={}\n",
    "ptmp"
   ]
  },
  {
   "cell_type": "code",
   "execution_count": 24,
   "metadata": {
    "collapsed": false
   },
   "outputs": [
    {
     "data": {
      "text/plain": [
       "(-100, 1)"
      ]
     },
     "execution_count": 24,
     "metadata": {},
     "output_type": "execute_result"
    },
    {
     "data": {
      "image/png": "[encoded data removed]",
      "text/plain": [
       "<matplotlib.figure.Figure at 0x7f95f8f69d90>"
      ]
     },
     "metadata": {},
     "output_type": "display_data"
    }
   ],
   "source": [
    "plt.plot(x.MDF_0,np.log10(x.L),'r.')\n",
    "plt.ylim(-100,1)\n",
    "#plt.ylim(1E-53,10)"
   ]
  },
  {
   "cell_type": "markdown",
   "metadata": {},
   "source": [
    "TODO: Check likelihood for MDF=113"
   ]
  },
  {
   "cell_type": "code",
   "execution_count": 199,
   "metadata": {
    "collapsed": false
   },
   "outputs": [
    {
     "name": "stdout",
     "output_type": "stream",
     "text": [
      "128.0\n",
      "False\n"
     ]
    }
   ],
   "source": [
    "print p0.MDF\n",
    "print L(mo.Omega)>L0"
   ]
  },
  {
   "cell_type": "code",
   "execution_count": 101,
   "metadata": {
    "collapsed": false
   },
   "outputs": [
    {
     "name": "stdout",
     "output_type": "stream",
     "text": [
      "129.0\n",
      "289.962290763\n",
      "O: 0.388\n",
      "129.0\n"
     ]
    }
   ],
   "source": [
    "MDF=MDF+np.random.choice([+1,-1])*1.\n",
    "print MDF\n",
    "mo=pd.Series(run_point(MDF))\n",
    "chi2=( np.log(mo.Omega/Omega_exp)/(3*Omega_err))*2\n",
    "print chi2\n",
    "L=np.exp(-chi2/2)\n",
    "print 'O:',mo.Omega\n",
    "p=L/L0\n",
    "pnew=np.random.random()\n",
    "if L>L0:\n",
    "    MDF=MDF+np.random.choice([+1,-1])*1.\n",
    "else\n",
    "if p<pnew:\n",
    "    print pnew\n",
    "    MDF=MDF+np.random.choice([+1,-1])*1.\n",
    "else:\n",
    "    MDF=MDFold\n",
    "    MDF=MDF+np.random.choice([+1,-1])*1.\n",
    "print MDF"
   ]
  },
  {
   "cell_type": "code",
   "execution_count": 10,
   "metadata": {
    "collapsed": false
   },
   "outputs": [
    {
     "name": "stdout",
     "output_type": "stream",
     "text": [
      "========= SOME VALUES ===========\n",
      "Omega \tSI \t SD \tsigmav\n",
      "==============================\n",
      "0.0853 1.746e-09 0.0003883 \t1.36e-26\n",
      "==============================\n"
     ]
    }
   ],
   "source": [
    "print \"========= SOME VALUES ===========\"\n",
    "print \"Omega\",\"\\t\", \"SI\",\"\\t\",  \" SD\",\"\\t\",  \"sigmav\"\n",
    "print \"==============================\"\n",
    "print Omega, SI,SD,\"\\t\",sigmav\n",
    "print \"==============================\""
   ]
  },
  {
   "cell_type": "code",
   "execution_count": null,
   "metadata": {
    "collapsed": true
   },
   "outputs": [],
   "source": []
  },
  {
   "cell_type": "markdown",
   "metadata": {},
   "source": [
    "Full micrOMEGAs output"
   ]
  },
  {
   "cell_type": "code",
   "execution_count": 9,
   "metadata": {
    "collapsed": false
   },
   "outputs": [
    {
     "data": {
      "text/plain": [
       "['',\n",
       " \"Dark matter candidate is '~chi2' with spin=1/2 mass=8.96E+01\",\n",
       " '',\n",
       " '=== MASSES OF HIGGS AND ODD PARTICLES: ===',\n",
       " 'Higgs masses and widths',\n",
       " '      H   125.00 7.03E-03',\n",
       " '',\n",
       " 'Masses of odd sector Particles:',\n",
       " '~chi : Mchi2 =    89.6 || ~X1n : MDF   =   110.0 || ~chi : Mchi1 =   111.9 ',\n",
       " '~chi : Mchi3 =   123.3 || ~sk  : Msk   =  3000.0 || ',\n",
       " '',\n",
       " '==== Calculation of relic density =====',\n",
       " 'Xf=2.49e+01 Omega=8.53e-02',\n",
       " '# Channels which contribute to 1/(omega) more than 1%.',\n",
       " '# Relative contributions in % are displayed',\n",
       " '   69% ~chi2 ~chi2 ->W+ W- ',\n",
       " '    9% ~chi2 ~chi2 ->Z Z ',\n",
       " '    4% ~chi2 ~X1n ->u~ d ',\n",
       " '    4% ~chi2 ~X1n ->c~ s ',\n",
       " '    1% ~chi2 ~X1n ->ve~ e- ',\n",
       " '    1% ~chi2 ~X1n ->vm~ mu- ',\n",
       " '    1% ~chi2 ~X1n ->vt~ ta- ',\n",
       " 'omega_h^2 = 8.53E-02',\n",
       " '',\n",
       " '==== Indirect detection =======',\n",
       " '    Channel          vcs[cm^3/s]',\n",
       " '==================================',\n",
       " ' annihilation cross section 1.36E-26 cm^3/s',\n",
       " ' contribution of processes',\n",
       " '  ~chi2,~chi2 -> W+ W-  9.67E-01',\n",
       " '  ~chi2,~chi2 -> Z Z    2.62E-02',\n",
       " '  ~chi2,~chi2 -> b b~   5.96E-03',\n",
       " '  ~chi2,~chi2 -> c c~   4.36E-04',\n",
       " '  ~chi2,~chi2 -> ta- t  2.85E-04',\n",
       " '  ~chi2,~chi2 -> Z H    1.54E-04',\n",
       " 'Photon flux  for angle of sight f=0.10[rad]',\n",
       " 'and spherical region described by cone with angle 0.10[rad]',\n",
       " 'Photon flux = 2.82E-14[cm^2 s GeV]^{-1} for E=44.8[GeV]',\n",
       " 'Positron flux  =  5.22E-11[cm^2 sr s GeV]^{-1} for E=44.8[GeV] ',\n",
       " 'Antiproton flux  =  2.69E-11[cm^2 sr s GeV]^{-1} for E=44.8[GeV] ',\n",
       " '',\n",
       " '==== Calculation of CDM-nucleons amplitudes  =====',\n",
       " 'CDM[antiCDM]-nucleon micrOMEGAs amplitudes for ~chi2 ',\n",
       " 'proton:  SI  -2.019E-09 [-2.019E-09]  SD  -5.499E-07 [-5.499E-07]',\n",
       " 'neutron: SI  -2.040E-09 [-2.040E-09]  SD  4.808E-07 [4.808E-07]',\n",
       " 'CDM[antiCDM]-nucleon cross sections[pb]:',\n",
       " ' proton  SI 1.746E-09 [1.746E-09] SD 3.883E-04 [3.883E-04]',\n",
       " ' neutron SI 1.781E-09 [1.781E-09] SD 2.969E-04 [2.969E-04]',\n",
       " '',\n",
       " '===============Neutrino Telescope=======  for  Sun',\n",
       " ' E>1.0E+00 GeV neutrino flux       8.91E+11 [1/Year/km^2] ',\n",
       " ' E>1.0E+00 GeV anti-neutrino flux  9.97E+11 [1/Year/km^2]',\n",
       " ' E>1.0E+00 GeV Upward muon flux    1.39E+03 [1/Year/km^2]',\n",
       " ' E>1.0E+00 GeV Contained muon flux 1.86E+04 [1/Year/km^3]',\n",
       " '',\n",
       " 'H :   total width=7.025906E-03 ',\n",
       " ' and Branchings:',\n",
       " '1.436741E-02 H -> Z,Z',\n",
       " '1.245932E-01 H -> W+,W-',\n",
       " '3.049025E-09 H -> e-,e+',\n",
       " '1.303583E-04 H -> mu-,mu+',\n",
       " '3.682707E-02 H -> ta-,ta+',\n",
       " '2.277827E-07 H -> u,u~',\n",
       " '5.646493E-02 H -> c,c~',\n",
       " '8.898187E-07 H -> d,d~',\n",
       " '3.573398E-04 H -> s,s~',\n",
       " '7.672587E-01 H -> b,b~',\n",
       " '',\n",
       " 'W+ :   total width=2.002524E+00 ',\n",
       " ' and Branchings:',\n",
       " '1.111345E-01 W+ -> ve,e+',\n",
       " '1.111342E-01 W+ -> vm,mu+',\n",
       " '1.110519E-01 W+ -> vt,ta+',\n",
       " '3.164088E-01 W+ -> u,d~',\n",
       " '1.698820E-02 W+ -> c,d~',\n",
       " '1.699461E-02 W+ -> u,s~',\n",
       " '3.162879E-01 W+ -> c,s~']"
      ]
     },
     "execution_count": 9,
     "metadata": {},
     "output_type": "execute_result"
    }
   ],
   "source": [
    "mo.splitlines()"
   ]
  },
  {
   "cell_type": "code",
   "execution_count": 131,
   "metadata": {
    "collapsed": false
   },
   "outputs": [
    {
     "name": "stdout",
     "output_type": "stream",
     "text": [
      "[master 197e00f] first implementation of markov chain function\n",
      " 1 file changed, 394 insertions(+), 121 deletions(-)\n"
     ]
    },
    {
     "name": "stderr",
     "output_type": "stream",
     "text": [
      "To git@gitlab.com:restrepo/markov.git\n",
      "   d0edaed..197e00f  master -> master\n"
     ]
    }
   ],
   "source": [
    "%%bash\n",
    "#git init\n",
    "#git add correr_micrOMEGAs-markov.ipynb\n",
    "#git remote add origin git@gitlab.com:restrepo/markov.git\n",
    "#git config --global user.name \"rsiii\"\n",
    "#git config --global user.email \"rsiii@gfif.udea.edu.co\"\n",
    "git commit -am \"markov_step function ful\"\n",
    "git push origin master"
   ]
  },
  {
   "cell_type": "markdown",
   "metadata": {
    "collapsed": true
   },
   "source": [
    "Recover last commited version"
   ]
  },
  {
   "cell_type": "code",
   "execution_count": null,
   "metadata": {
    "collapsed": true
   },
   "outputs": [],
   "source": [
    "%%bash \n",
    "#git reset --hard $(git log | head -n1 | awk '{print $2}')"
   ]
  },
  {
   "cell_type": "code",
   "execution_count": null,
   "metadata": {
    "collapsed": true
   },
   "outputs": [],
   "source": []
  },
  {
   "cell_type": "code",
   "execution_count": null,
   "metadata": {
    "collapsed": true
   },
   "outputs": [],
   "source": []
  }
 ],
 "metadata": {
  "kernelspec": {
   "display_name": "Python 2",
   "language": "python",
   "name": "python2"
  },
  "language_info": {
   "codemirror_mode": {
    "name": "ipython",
    "version": 2
   },
   "file_extension": ".py",
   "mimetype": "text/x-python",
   "name": "python",
   "nbconvert_exporter": "python",
   "pygments_lexer": "ipython2",
   "version": "2.7.9"
  }
 },
 "nbformat": 4,
 "nbformat_minor": 0
}
